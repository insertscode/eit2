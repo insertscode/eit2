{
  "nbformat": 4,
  "nbformat_minor": 0,
  "metadata": {
    "colab": {
      "name": "HW2: MNIST.ipynb",
      "provenance": [],
      "collapsed_sections": [
        "qlpwK0WT7Kqx"
      ]
    },
    "kernelspec": {
      "name": "python3",
      "display_name": "Python 3"
    },
    "language_info": {
      "name": "python"
    }
  },
  "cells": [
    {
      "cell_type": "code",
      "execution_count": null,
      "metadata": {
        "id": "-9SAl8mraodl"
      },
      "outputs": [],
      "source": [
        "import pandas as pd\n",
        "import matplotlib.pyplot as plt\n",
        "import numpy as np\n",
        "from tabulate import tabulate\n",
        "from scipy.stats import multivariate_normal as mvn\n",
        "import seaborn as sns"
      ]
    },
    {
      "cell_type": "markdown",
      "source": [
        "## Data"
      ],
      "metadata": {
        "id": "TPYGIjmibO1y"
      }
    },
    {
      "cell_type": "code",
      "source": [
        "df = pd.read_csv(\"/content/MNIST_train.csv\")"
      ],
      "metadata": {
        "id": "OfJuxFEfa2xA"
      },
      "execution_count": null,
      "outputs": []
    },
    {
      "cell_type": "code",
      "source": [
        "print(df.shape)\n",
        "print(df.columns)"
      ],
      "metadata": {
        "colab": {
          "base_uri": "https://localhost:8080/"
        },
        "id": "bk1CDG_ObME6",
        "outputId": "8545c548-1a45-495d-eb67-532884d7e4d9"
      },
      "execution_count": null,
      "outputs": [
        {
          "output_type": "stream",
          "name": "stdout",
          "text": [
            "(60000, 787)\n",
            "Index(['Unnamed: 0', 'index', 'labels', '0', '1', '2', '3', '4', '5', '6',\n",
            "       ...\n",
            "       '774', '775', '776', '777', '778', '779', '780', '781', '782', '783'],\n",
            "      dtype='object', length=787)\n"
          ]
        }
      ]
    },
    {
      "cell_type": "code",
      "source": [
        "df = df.drop(['Unnamed: 0', 'index'], axis=1)"
      ],
      "metadata": {
        "id": "eC1j2EBecC8z"
      },
      "execution_count": null,
      "outputs": []
    },
    {
      "cell_type": "code",
      "source": [
        "df.drop_duplicates()\n",
        "df.shape"
      ],
      "metadata": {
        "colab": {
          "base_uri": "https://localhost:8080/"
        },
        "id": "26TFJk5z6k0a",
        "outputId": "9e252373-a7d9-4040-abd0-062936b92855"
      },
      "execution_count": null,
      "outputs": [
        {
          "output_type": "execute_result",
          "data": {
            "text/plain": [
              "(60000, 785)"
            ]
          },
          "metadata": {},
          "execution_count": 5
        }
      ]
    },
    {
      "cell_type": "code",
      "source": [
        "data = df.to_numpy()\n",
        "X = data[:,1:]\n",
        "y = data[:, 0]"
      ],
      "metadata": {
        "id": "3Pq0Vd3GcNI_"
      },
      "execution_count": null,
      "outputs": []
    },
    {
      "cell_type": "code",
      "source": [
        "print(X.shape)\n",
        "print(y.shape)"
      ],
      "metadata": {
        "colab": {
          "base_uri": "https://localhost:8080/"
        },
        "id": "Fh_RL5cOctxX",
        "outputId": "c5c7d0a3-bacc-49ce-9ae7-0e7243e1ec5c"
      },
      "execution_count": null,
      "outputs": [
        {
          "output_type": "stream",
          "name": "stdout",
          "text": [
            "(60000, 784)\n",
            "(60000,)\n"
          ]
        }
      ]
    },
    {
      "cell_type": "code",
      "source": [
        "def addlabels(x,y, space=50):\n",
        "    for i in range(len(x)):\n",
        "        plt.text(i, y[i]+space, y[i], ha='center', fontweight=\"bold\")\n",
        "c = [\n",
        "        'tab:orange', 'tab:gray', 'tab:red',\n",
        "        'tab:green', 'tab:cyan', 'tab:blue',\n",
        "        'tab:pink', 'tab:olive', 'tab:purple','tab:brown'\n",
        "]\n",
        "idx_vals = pd.Series(y).value_counts()\n",
        "plt.bar([str(x) for x in idx_vals.index], idx_vals.values, tick_label=idx_vals.index, color=c, edgecolor=\"black\")\n",
        "addlabels(idx_vals.index, idx_vals.values)\n",
        "# plt.savefig('train_bar.png', bbox_inches=\"tight\")"
      ],
      "metadata": {
        "colab": {
          "base_uri": "https://localhost:8080/",
          "height": 267
        },
        "id": "o8AfN8Vec9NE",
        "outputId": "02451a5e-e4c3-4ec8-fdb0-4849ec425b84"
      },
      "execution_count": null,
      "outputs": [
        {
          "output_type": "display_data",
          "data": {
            "text/plain": [
              "<Figure size 432x288 with 1 Axes>"
            ],
            "image/png": "[encoded data removed]"
          },
          "metadata": {
            "needs_background": "light"
          }
        }
      ]
    },
    {
      "cell_type": "code",
      "source": [
        "idx_vals = pd.Series(y).value_counts().sort_index()\n",
        "colors = ['tab:blue','tab:orange','tab:green',\n",
        "          'tab:red','tab:purple','tab:brown',\n",
        "          'tab:pink','tab:gray','tab:olive','tab:cyan']\n",
        "temp_labels = [\n",
        "    \"0: 5923\", \"1: 6742\", \"2: 5958\",\n",
        "    \"3: 6131\", \"4: 5842\", \"5: 5421\",\n",
        "    \"6: 5918\", \"7: 6265\", \"8: 5851\",\n",
        "    \"9: 5949\"\n",
        "]\n",
        "plt.pie(x=idx_vals.values, labels=idx_vals.index, \n",
        "        colors=colors, radius=1.6, startangle=90, counterclock=False,\n",
        "        explode = [0,0.3,0,0,0,0.25,0,0,0,0], # Cut slices out\n",
        "        autopct = \"%0.2f%%\", # Shows percentages in 2 decimals\n",
        "        wedgeprops={\"edgecolor\":\"black\", \"linewidth\": 2, 'width':1.52},\n",
        "        textprops={\"fontsize\":14},#, \"weight\":\"bold\"}\n",
        "        )\n",
        "# plt.legend(labels=temp_labels, loc=(1.3,0), fontsize=16)\n",
        "plt.legend(title=\"Train data distribution\", labels=temp_labels, loc=(1.3,0), fontsize=16)\n",
        "plt.plot()\n",
        "plt.savefig('train_pie.png', bbox_inches=\"tight\")"
      ],
      "metadata": {
        "colab": {
          "base_uri": "https://localhost:8080/",
          "height": 355
        },
        "id": "el1FIVwQlw-k",
        "outputId": "eea5a0be-1ee0-4a39-ff1e-e4a9146970a3"
      },
      "execution_count": null,
      "outputs": [
        {
          "output_type": "display_data",
          "data": {
            "text/plain": [
              "<Figure size 432x288 with 1 Axes>"
            ],
            "image/png": "[encoded data removed]"
          },
          "metadata": {}
        }
      ]
    },
    {
      "cell_type": "code",
      "source": [
        "# Checking for missing\n",
        "df.isnull().sum().sum()"
      ],
      "metadata": {
        "colab": {
          "base_uri": "https://localhost:8080/"
        },
        "id": "d4L60h9RniFR",
        "outputId": "5569fdd1-ff1e-4ff7-b373-f1392da380e7"
      },
      "execution_count": null,
      "outputs": [
        {
          "output_type": "execute_result",
          "data": {
            "text/plain": [
              "0"
            ]
          },
          "metadata": {},
          "execution_count": 10
        }
      ]
    },
    {
      "cell_type": "code",
      "source": [
        "# Checking if any inconsistencies in column dtypes exist\n",
        "df.dtypes\n",
        "sett = set([])\n",
        "for i in df.dtypes:\n",
        "    sett.add(i)\n",
        "sett"
      ],
      "metadata": {
        "colab": {
          "base_uri": "https://localhost:8080/"
        },
        "id": "jXvdiD--pCCE",
        "outputId": "79d0741b-f92d-4aa0-85e2-25248a36c0f2"
      },
      "execution_count": null,
      "outputs": [
        {
          "output_type": "execute_result",
          "data": {
            "text/plain": [
              "{dtype('int64')}"
            ]
          },
          "metadata": {},
          "execution_count": 11
        }
      ]
    },
    {
      "cell_type": "code",
      "source": [
        "# Functions for getting and viewing instances\n",
        "def digit_info(X, y, idx):\n",
        "    \"\"\"\n",
        "    \"\"\"\n",
        "    try:\n",
        "        print(y[idx])\n",
        "        plt.imshow(X[idx].reshape(28,28))\n",
        "    except IndexError:\n",
        "        print(\"IndexError: Index out of bounds\")\n",
        "\n",
        "def view_digit(x):\n",
        "    \"\"\" Displays the given instance\n",
        "    NumpyArray: X -> A row vector with 784 values \n",
        "    \"\"\"\n",
        "    try:\n",
        "        plt.imshow(x.reshape(28,28))\n",
        "    except ValueError:\n",
        "        print(f\"ValueError: Cannot reshape {len(x)} into (28,28)\")\n",
        "\n",
        "def get_mean(X, y, k):\n",
        "    \"\"\" returns a row vector with the mean values for the given class\n",
        "    NumpyArray: X -> An n by m matrix of instances\n",
        "    NumpyArray: y -> A len(X) row vector of class labels \n",
        "    Int: K        -> The label in question \n",
        "    \"\"\"\n",
        "    return sum(X[y==k,:]/len(X[y==k,:]))\n",
        "\n",
        "def view_mean(X, y, k):\n",
        "    \"\"\" Displays the a mean representation of the given class in X\n",
        "    NumpyArray: X -> An n by m matrix of instances\n",
        "    NumpyArray: y -> A len(X) row vector of class labels \n",
        "    Int: K        -> The label in question \n",
        "    \"\"\"\n",
        "    view_digit(get_mean(X, y, k))\n",
        "\n",
        "def min_max_scaling(x):\n",
        "    return (x - x.min())/(x.max() - x.min())\n",
        "\n",
        "def acc(y, y_hat):\n",
        "  return np.mean(y==y_hat)"
      ],
      "metadata": {
        "id": "bKiZLus3pa6z"
      },
      "execution_count": null,
      "outputs": []
    },
    {
      "cell_type": "code",
      "source": [
        "X_norm = X.copy()\n",
        "for i, row in enumerate(X_norm):\n",
        "    X_norm[i] = min_max_scaling(row)"
      ],
      "metadata": {
        "id": "xQtPcDGei2Dg"
      },
      "execution_count": null,
      "outputs": []
    },
    {
      "cell_type": "code",
      "source": [
        "view_mean(X,y,3)"
      ],
      "metadata": {
        "colab": {
          "base_uri": "https://localhost:8080/",
          "height": 265
        },
        "id": "z48bPjdmuLSl",
        "outputId": "6a8bbe77-c555-43ad-e9c9-0379ce8923c6"
      },
      "execution_count": null,
      "outputs": [
        {
          "output_type": "display_data",
          "data": {
            "text/plain": [
              "<Figure size 432x288 with 1 Axes>"
            ],
            "image/png": "[encoded data removed]"
          },
          "metadata": {
            "needs_background": "light"
          }
        }
      ]
    },
    {
      "cell_type": "code",
      "source": [
        "digit_info(X, y, 5236)"
      ],
      "metadata": {
        "colab": {
          "base_uri": "https://localhost:8080/",
          "height": 282
        },
        "id": "ZFv8lc-awNMf",
        "outputId": "1340462e-d99d-4b31-927c-9be263d22d1a"
      },
      "execution_count": null,
      "outputs": [
        {
          "output_type": "stream",
          "name": "stdout",
          "text": [
            "2\n"
          ]
        },
        {
          "output_type": "display_data",
          "data": {
            "text/plain": [
              "<Figure size 432x288 with 1 Axes>"
            ],
            "image/png": "[encoded data removed]"
          },
          "metadata": {
            "needs_background": "light"
          }
        }
      ]
    },
    {
      "cell_type": "code",
      "source": [
        "df_test = pd.read_csv(\"/content/MNIST_test.csv\")\n",
        "df_test"
      ],
      "metadata": {
        "colab": {
          "base_uri": "https://localhost:8080/",
          "height": 424
        },
        "id": "W1uYGEAs6cr6",
        "outputId": "dbf3eac6-61fe-4af0-a2f4-fb391a123e42"
      },
      "execution_count": null,
      "outputs": [
        {
          "output_type": "execute_result",
          "data": {
            "text/plain": [
              "      Unnamed: 0  index  labels  0  1  2  3  4  5  6  ...  774  775  776  777  \\\n",
              "0              0      0       7  0  0  0  0  0  0  0  ...    0    0    0    0   \n",
              "1              1      1       2  0  0  0  0  0  0  0  ...    0    0    0    0   \n",
              "2              2      2       1  0  0  0  0  0  0  0  ...    0    0    0    0   \n",
              "3              3      3       0  0  0  0  0  0  0  0  ...    0    0    0    0   \n",
              "4              4      4       4  0  0  0  0  0  0  0  ...    0    0    0    0   \n",
              "...          ...    ...     ... .. .. .. .. .. .. ..  ...  ...  ...  ...  ...   \n",
              "9995        9995   9995       2  0  0  0  0  0  0  0  ...    0    0    0    0   \n",
              "9996        9996   9996       3  0  0  0  0  0  0  0  ...    0    0    0    0   \n",
              "9997        9997   9997       4  0  0  0  0  0  0  0  ...    0    0    0    0   \n",
              "9998        9998   9998       5  0  0  0  0  0  0  0  ...    0    0    0    0   \n",
              "9999        9999   9999       6  0  0  0  0  0  0  0  ...    0    0    0    0   \n",
              "\n",
              "      778  779  780  781  782  783  \n",
              "0       0    0    0    0    0    0  \n",
              "1       0    0    0    0    0    0  \n",
              "2       0    0    0    0    0    0  \n",
              "3       0    0    0    0    0    0  \n",
              "4       0    0    0    0    0    0  \n",
              "...   ...  ...  ...  ...  ...  ...  \n",
              "9995    0    0    0    0    0    0  \n",
              "9996    0    0    0    0    0    0  \n",
              "9997    0    0    0    0    0    0  \n",
              "9998    0    0    0    0    0    0  \n",
              "9999    0    0    0    0    0    0  \n",
              "\n",
              "[10000 rows x 787 columns]"
            ],
            "text/html": [
              "\n",
              "  <div id=\"df-1d013635-6f2a-4387-a8ee-e9679d37132f\">\n",
              "    <div class=\"colab-df-container\">\n",
              "      <div>\n",
              "<style scoped>\n",
              "    .dataframe tbody tr th:only-of-type {\n",
              "        vertical-align: middle;\n",
              "    }\n",
              "\n",
              "    .dataframe tbody tr th {\n",
              "        vertical-align: top;\n",
              "    }\n",
              "\n",
              "    .dataframe thead th {\n",
              "        text-align: right;\n",
              "    }\n",
              "</style>\n",
              "<table border=\"1\" class=\"dataframe\">\n",
              "  <thead>\n",
              "    <tr style=\"text-align: right;\">\n",
              "      <th></th>\n",
              "      <th>Unnamed: 0</th>\n",
              "      <th>index</th>\n",
              "      <th>labels</th>\n",
              "      <th>0</th>\n",
              "      <th>1</th>\n",
              "      <th>2</th>\n",
              "      <th>3</th>\n",
              "      <th>4</th>\n",
              "      <th>5</th>\n",
              "      <th>6</th>\n",
              "      <th>...</th>\n",
              "      <th>774</th>\n",
              "      <th>775</th>\n",
              "      <th>776</th>\n",
              "      <th>777</th>\n",
              "      <th>778</th>\n",
              "      <th>779</th>\n",
              "      <th>780</th>\n",
              "      <th>781</th>\n",
              "      <th>782</th>\n",
              "      <th>783</th>\n",
              "    </tr>\n",
              "  </thead>\n",
              "  <tbody>\n",
              "    <tr>\n",
              "      <th>0</th>\n",
              "      <td>0</td>\n",
              "      <td>0</td>\n",
              "      <td>7</td>\n",
              "      <td>0</td>\n",
              "      <td>0</td>\n",
              "      <td>0</td>\n",
              "      <td>0</td>\n",
              "      <td>0</td>\n",
              "      <td>0</td>\n",
              "      <td>0</td>\n",
              "      <td>...</td>\n",
              "      <td>0</td>\n",
              "      <td>0</td>\n",
              "      <td>0</td>\n",
              "      <td>0</td>\n",
              "      <td>0</td>\n",
              "      <td>0</td>\n",
              "      <td>0</td>\n",
              "      <td>0</td>\n",
              "      <td>0</td>\n",
              "      <td>0</td>\n",
              "    </tr>\n",
              "    <tr>\n",
              "      <th>1</th>\n",
              "      <td>1</td>\n",
              "      <td>1</td>\n",
              "      <td>2</td>\n",
              "      <td>0</td>\n",
              "      <td>0</td>\n",
              "      <td>0</td>\n",
              "      <td>0</td>\n",
              "      <td>0</td>\n",
              "      <td>0</td>\n",
              "      <td>0</td>\n",
              "      <td>...</td>\n",
              "      <td>0</td>\n",
              "      <td>0</td>\n",
              "      <td>0</td>\n",
              "      <td>0</td>\n",
              "      <td>0</td>\n",
              "      <td>0</td>\n",
              "      <td>0</td>\n",
              "      <td>0</td>\n",
              "      <td>0</td>\n",
              "      <td>0</td>\n",
              "    </tr>\n",
              "    <tr>\n",
              "      <th>2</th>\n",
              "      <td>2</td>\n",
              "      <td>2</td>\n",
              "      <td>1</td>\n",
              "      <td>0</td>\n",
              "      <td>0</td>\n",
              "      <td>0</td>\n",
              "      <td>0</td>\n",
              "      <td>0</td>\n",
              "      <td>0</td>\n",
              "      <td>0</td>\n",
              "      <td>...</td>\n",
              "      <td>0</td>\n",
              "      <td>0</td>\n",
              "      <td>0</td>\n",
              "      <td>0</td>\n",
              "      <td>0</td>\n",
              "      <td>0</td>\n",
              "      <td>0</td>\n",
              "      <td>0</td>\n",
              "      <td>0</td>\n",
              "      <td>0</td>\n",
              "    </tr>\n",
              "    <tr>\n",
              "      <th>3</th>\n",
              "      <td>3</td>\n",
              "      <td>3</td>\n",
              "      <td>0</td>\n",
              "      <td>0</td>\n",
              "      <td>0</td>\n",
              "      <td>0</td>\n",
              "      <td>0</td>\n",
              "      <td>0</td>\n",
              "      <td>0</td>\n",
              "      <td>0</td>\n",
              "      <td>...</td>\n",
              "      <td>0</td>\n",
              "      <td>0</td>\n",
              "      <td>0</td>\n",
              "      <td>0</td>\n",
              "      <td>0</td>\n",
              "      <td>0</td>\n",
              "      <td>0</td>\n",
              "      <td>0</td>\n",
              "      <td>0</td>\n",
              "      <td>0</td>\n",
              "    </tr>\n",
              "    <tr>\n",
              "      <th>4</th>\n",
              "      <td>4</td>\n",
              "      <td>4</td>\n",
              "      <td>4</td>\n",
              "      <td>0</td>\n",
              "      <td>0</td>\n",
              "      <td>0</td>\n",
              "      <td>0</td>\n",
              "      <td>0</td>\n",
              "      <td>0</td>\n",
              "      <td>0</td>\n",
              "      <td>...</td>\n",
              "      <td>0</td>\n",
              "      <td>0</td>\n",
              "      <td>0</td>\n",
              "      <td>0</td>\n",
              "      <td>0</td>\n",
              "      <td>0</td>\n",
              "      <td>0</td>\n",
              "      <td>0</td>\n",
              "      <td>0</td>\n",
              "      <td>0</td>\n",
              "    </tr>\n",
              "    <tr>\n",
              "      <th>...</th>\n",
              "      <td>...</td>\n",
              "      <td>...</td>\n",
              "      <td>...</td>\n",
              "      <td>...</td>\n",
              "      <td>...</td>\n",
              "      <td>...</td>\n",
              "      <td>...</td>\n",
              "      <td>...</td>\n",
              "      <td>...</td>\n",
              "      <td>...</td>\n",
              "      <td>...</td>\n",
              "      <td>...</td>\n",
              "      <td>...</td>\n",
              "      <td>...</td>\n",
              "      <td>...</td>\n",
              "      <td>...</td>\n",
              "      <td>...</td>\n",
              "      <td>...</td>\n",
              "      <td>...</td>\n",
              "      <td>...</td>\n",
              "      <td>...</td>\n",
              "    </tr>\n",
              "    <tr>\n",
              "      <th>9995</th>\n",
              "      <td>9995</td>\n",
              "      <td>9995</td>\n",
              "      <td>2</td>\n",
              "      <td>0</td>\n",
              "      <td>0</td>\n",
              "      <td>0</td>\n",
              "      <td>0</td>\n",
              "      <td>0</td>\n",
              "      <td>0</td>\n",
              "      <td>0</td>\n",
              "      <td>...</td>\n",
              "      <td>0</td>\n",
              "      <td>0</td>\n",
              "      <td>0</td>\n",
              "      <td>0</td>\n",
              "      <td>0</td>\n",
              "      <td>0</td>\n",
              "      <td>0</td>\n",
              "      <td>0</td>\n",
              "      <td>0</td>\n",
              "      <td>0</td>\n",
              "    </tr>\n",
              "    <tr>\n",
              "      <th>9996</th>\n",
              "      <td>9996</td>\n",
              "      <td>9996</td>\n",
              "      <td>3</td>\n",
              "      <td>0</td>\n",
              "      <td>0</td>\n",
              "      <td>0</td>\n",
              "      <td>0</td>\n",
              "      <td>0</td>\n",
              "      <td>0</td>\n",
              "      <td>0</td>\n",
              "      <td>...</td>\n",
              "      <td>0</td>\n",
              "      <td>0</td>\n",
              "      <td>0</td>\n",
              "      <td>0</td>\n",
              "      <td>0</td>\n",
              "      <td>0</td>\n",
              "      <td>0</td>\n",
              "      <td>0</td>\n",
              "      <td>0</td>\n",
              "      <td>0</td>\n",
              "    </tr>\n",
              "    <tr>\n",
              "      <th>9997</th>\n",
              "      <td>9997</td>\n",
              "      <td>9997</td>\n",
              "      <td>4</td>\n",
              "      <td>0</td>\n",
              "      <td>0</td>\n",
              "      <td>0</td>\n",
              "      <td>0</td>\n",
              "      <td>0</td>\n",
              "      <td>0</td>\n",
              "      <td>0</td>\n",
              "      <td>...</td>\n",
              "      <td>0</td>\n",
              "      <td>0</td>\n",
              "      <td>0</td>\n",
              "      <td>0</td>\n",
              "      <td>0</td>\n",
              "      <td>0</td>\n",
              "      <td>0</td>\n",
              "      <td>0</td>\n",
              "      <td>0</td>\n",
              "      <td>0</td>\n",
              "    </tr>\n",
              "    <tr>\n",
              "      <th>9998</th>\n",
              "      <td>9998</td>\n",
              "      <td>9998</td>\n",
              "      <td>5</td>\n",
              "      <td>0</td>\n",
              "      <td>0</td>\n",
              "      <td>0</td>\n",
              "      <td>0</td>\n",
              "      <td>0</td>\n",
              "      <td>0</td>\n",
              "      <td>0</td>\n",
              "      <td>...</td>\n",
              "      <td>0</td>\n",
              "      <td>0</td>\n",
              "      <td>0</td>\n",
              "      <td>0</td>\n",
              "      <td>0</td>\n",
              "      <td>0</td>\n",
              "      <td>0</td>\n",
              "      <td>0</td>\n",
              "      <td>0</td>\n",
              "      <td>0</td>\n",
              "    </tr>\n",
              "    <tr>\n",
              "      <th>9999</th>\n",
              "      <td>9999</td>\n",
              "      <td>9999</td>\n",
              "      <td>6</td>\n",
              "      <td>0</td>\n",
              "      <td>0</td>\n",
              "      <td>0</td>\n",
              "      <td>0</td>\n",
              "      <td>0</td>\n",
              "      <td>0</td>\n",
              "      <td>0</td>\n",
              "      <td>...</td>\n",
              "      <td>0</td>\n",
              "      <td>0</td>\n",
              "      <td>0</td>\n",
              "      <td>0</td>\n",
              "      <td>0</td>\n",
              "      <td>0</td>\n",
              "      <td>0</td>\n",
              "      <td>0</td>\n",
              "      <td>0</td>\n",
              "      <td>0</td>\n",
              "    </tr>\n",
              "  </tbody>\n",
              "</table>\n",
              "<p>10000 rows × 787 columns</p>\n",
              "</div>\n",
              "      <button class=\"colab-df-convert\" onclick=\"convertToInteractive('df-1d013635-6f2a-4387-a8ee-e9679d37132f')\"\n",
              "              title=\"Convert this dataframe to an interactive table.\"\n",
              "              style=\"display:none;\">\n",
              "        \n",
              "  <svg xmlns=\"http://www.w3.org/2000/svg\" height=\"24px\"viewBox=\"0 0 24 24\"\n",
              "       width=\"24px\">\n",
              "    <path d=\"M0 0h24v24H0V0z\" fill=\"none\"/>\n",
              "    <path d=\"M18.56 5.44l.94 2.06.94-2.06 2.06-.94-2.06-.94-.94-2.06-.94 2.06-2.06.94zm-11 1L8.5 8.5l.94-2.06 2.06-.94-2.06-.94L8.5 2.5l-.94 2.06-2.06.94zm10 10l.94 2.06.94-2.06 2.06-.94-2.06-.94-.94-2.06-.94 2.06-2.06.94z\"/><path d=\"M17.41 7.96l-1.37-1.37c-.4-.4-.92-.59-1.43-.59-.52 0-1.04.2-1.43.59L10.3 9.45l-7.72 7.72c-.78.78-.78 2.05 0 2.83L4 21.41c.39.39.9.59 1.41.59.51 0 1.02-.2 1.41-.59l7.78-7.78 2.81-2.81c.8-.78.8-2.07 0-2.86zM5.41 20L4 18.59l7.72-7.72 1.47 1.35L5.41 20z\"/>\n",
              "  </svg>\n",
              "      </button>\n",
              "      \n",
              "  <style>\n",
              "    .colab-df-container {\n",
              "      display:flex;\n",
              "      flex-wrap:wrap;\n",
              "      gap: 12px;\n",
              "    }\n",
              "\n",
              "    .colab-df-convert {\n",
              "      background-color: #E8F0FE;\n",
              "      border: none;\n",
              "      border-radius: 50%;\n",
              "      cursor: pointer;\n",
              "      display: none;\n",
              "      fill: #1967D2;\n",
              "      height: 32px;\n",
              "      padding: 0 0 0 0;\n",
              "      width: 32px;\n",
              "    }\n",
              "\n",
              "    .colab-df-convert:hover {\n",
              "      background-color: #E2EBFA;\n",
              "      box-shadow: 0px 1px 2px rgba(60, 64, 67, 0.3), 0px 1px 3px 1px rgba(60, 64, 67, 0.15);\n",
              "      fill: #174EA6;\n",
              "    }\n",
              "\n",
              "    [theme=dark] .colab-df-convert {\n",
              "      background-color: #3B4455;\n",
              "      fill: #D2E3FC;\n",
              "    }\n",
              "\n",
              "    [theme=dark] .colab-df-convert:hover {\n",
              "      background-color: #434B5C;\n",
              "      box-shadow: 0px 1px 3px 1px rgba(0, 0, 0, 0.15);\n",
              "      filter: drop-shadow(0px 1px 2px rgba(0, 0, 0, 0.3));\n",
              "      fill: #FFFFFF;\n",
              "    }\n",
              "  </style>\n",
              "\n",
              "      <script>\n",
              "        const buttonEl =\n",
              "          document.querySelector('#df-1d013635-6f2a-4387-a8ee-e9679d37132f button.colab-df-convert');\n",
              "        buttonEl.style.display =\n",
              "          google.colab.kernel.accessAllowed ? 'block' : 'none';\n",
              "\n",
              "        async function convertToInteractive(key) {\n",
              "          const element = document.querySelector('#df-1d013635-6f2a-4387-a8ee-e9679d37132f');\n",
              "          const dataTable =\n",
              "            await google.colab.kernel.invokeFunction('convertToInteractive',\n",
              "                                                     [key], {});\n",
              "          if (!dataTable) return;\n",
              "\n",
              "          const docLinkHtml = 'Like what you see? Visit the ' +\n",
              "            '<a target=\"_blank\" href=https://colab.research.google.com/notebooks/data_table.ipynb>data table notebook</a>'\n",
              "            + ' to learn more about interactive tables.';\n",
              "          element.innerHTML = '';\n",
              "          dataTable['output_type'] = 'display_data';\n",
              "          await google.colab.output.renderOutput(dataTable, element);\n",
              "          const docLink = document.createElement('div');\n",
              "          docLink.innerHTML = docLinkHtml;\n",
              "          element.appendChild(docLink);\n",
              "        }\n",
              "      </script>\n",
              "    </div>\n",
              "  </div>\n",
              "  "
            ]
          },
          "metadata": {},
          "execution_count": 16
        }
      ]
    },
    {
      "cell_type": "code",
      "source": [
        "df_test.drop_duplicates()\n",
        "df_test.shape"
      ],
      "metadata": {
        "colab": {
          "base_uri": "https://localhost:8080/"
        },
        "id": "v8SY1afz-B2F",
        "outputId": "d80d1aae-b64d-4172-d88f-ca3cfe09f3e4"
      },
      "execution_count": null,
      "outputs": [
        {
          "output_type": "execute_result",
          "data": {
            "text/plain": [
              "(10000, 787)"
            ]
          },
          "metadata": {},
          "execution_count": 17
        }
      ]
    },
    {
      "cell_type": "code",
      "source": [
        "df_test = df_test.drop(['Unnamed: 0', 'index'], axis=1)\n",
        "data_test = df_test.to_numpy()\n",
        "X_test = data_test[:,1:]\n",
        "y_test = data_test[:, 0]"
      ],
      "metadata": {
        "id": "H9LtFWcS9Yof"
      },
      "execution_count": null,
      "outputs": []
    },
    {
      "cell_type": "code",
      "source": [
        "print(X_test.shape)\n",
        "print(y_test.shape)\n",
        "print(pd.Series(y_test).value_counts().sort_index())"
      ],
      "metadata": {
        "colab": {
          "base_uri": "https://localhost:8080/"
        },
        "id": "g2nxieGu91-t",
        "outputId": "083215a9-98ee-41ce-90c8-ae47dd06c7cc"
      },
      "execution_count": null,
      "outputs": [
        {
          "output_type": "stream",
          "name": "stdout",
          "text": [
            "(10000, 784)\n",
            "(10000,)\n",
            "0     980\n",
            "1    1135\n",
            "2    1032\n",
            "3    1010\n",
            "4     982\n",
            "5     892\n",
            "6     958\n",
            "7    1028\n",
            "8     974\n",
            "9    1009\n",
            "dtype: int64\n"
          ]
        }
      ]
    },
    {
      "cell_type": "code",
      "source": [
        "sett2 = set([])\n",
        "for i in df_test.dtypes:\n",
        "    sett2.add(i)\n",
        "sett2"
      ],
      "metadata": {
        "colab": {
          "base_uri": "https://localhost:8080/"
        },
        "id": "d4P4iE_b_1OI",
        "outputId": "a1ba17dc-a46a-460e-dc64-6562d7bb4d38"
      },
      "execution_count": null,
      "outputs": [
        {
          "output_type": "execute_result",
          "data": {
            "text/plain": [
              "{dtype('int64')}"
            ]
          },
          "metadata": {},
          "execution_count": 20
        }
      ]
    },
    {
      "cell_type": "code",
      "source": [
        "temp_labels_test = [\n",
        "    \"0: 980\", \"1: 1135\", \"2: 1032\", \"3: 1010\",\n",
        "    \"4: 982\", \"5: 892\", \"6: 958\", \n",
        "    \"7: 1028\", \"8: 974\", \"9: 1009\"\n",
        "]\n",
        "idx_vals_test = pd.Series(y_test).value_counts().sort_index()\n",
        "plt.pie(x=idx_vals_test.values, labels=idx_vals_test.index, \n",
        "        colors=colors, radius=1.6, startangle=90, counterclock=False,\n",
        "        explode = [0,0.3,0,0,0,0.25,0,0,0,0], # Cut slices out\n",
        "        autopct = \"%0.2f%%\", # Shows percentages in 2 decimals\n",
        "        wedgeprops={\"edgecolor\":\"black\", \"linewidth\": 2, 'width':1.52},\n",
        "        textprops={\"fontsize\":14},#, \"weight\":\"bold\"}\n",
        "        )\n",
        "plt.legend(title=\"Test data distribution\", labels=temp_labels_test, loc=(1.3,0), fontsize=16)\n",
        "plt.plot()\n",
        "# plt.savefig('test_pie.png', bbox_inches=\"tight\")"
      ],
      "metadata": {
        "colab": {
          "base_uri": "https://localhost:8080/",
          "height": 371
        },
        "id": "UhJv31fV9105",
        "outputId": "cb3bd34e-fba7-4871-e1a4-1e9da7919641"
      },
      "execution_count": null,
      "outputs": [
        {
          "output_type": "execute_result",
          "data": {
            "text/plain": [
              "[]"
            ]
          },
          "metadata": {},
          "execution_count": 21
        },
        {
          "output_type": "display_data",
          "data": {
            "text/plain": [
              "<Figure size 432x288 with 1 Axes>"
            ],
            "image/png": "[encoded data removed]"
          },
          "metadata": {}
        }
      ]
    },
    {
      "cell_type": "code",
      "source": [
        "c2 = [\n",
        "        'tab:orange', 'tab:gray', 'tab:red',\n",
        "        'tab:green', 'tab:cyan', 'tab:blue',\n",
        "        'tab:pink', 'tab:olive', 'tab:purple','tab:brown'\n",
        "]\n",
        "idx_vals_test = pd.Series(y_test).value_counts()\n",
        "plt.bar([str(x) for x in idx_vals_test.index], idx_vals_test.values, tick_label=idx_vals_test.index, color=c2, edgecolor=\"black\")\n",
        "addlabels(idx_vals_test.index, idx_vals_test.values, space=10)\n",
        "# plt.savefig('test_bar.png', bbox_inches=\"tight\")"
      ],
      "metadata": {
        "colab": {
          "base_uri": "https://localhost:8080/",
          "height": 265
        },
        "id": "vMuvifXrslvz",
        "outputId": "cf97909f-b715-47a9-9388-91dd929c11e7"
      },
      "execution_count": null,
      "outputs": [
        {
          "output_type": "display_data",
          "data": {
            "text/plain": [
              "<Figure size 432x288 with 1 Axes>"
            ],
            "image/png": "[encoded data removed]"
          },
          "metadata": {
            "needs_background": "light"
          }
        }
      ]
    },
    {
      "cell_type": "markdown",
      "source": [
        "## Classifiers"
      ],
      "metadata": {
        "id": "qlpwK0WT7Kqx"
      }
    },
    {
      "cell_type": "code",
      "source": [
        "class GaussNB():\n",
        "  \n",
        "    likelihoods = dict()   # \n",
        "    priors = dict()        # \n",
        "    K = int()              # K stands for the number of classes\n",
        "  \n",
        "    def fit(self, X, y, epsilon=1e-3):\n",
        "        \"\"\" \n",
        "        Method for training the model\n",
        "        Creates likelihoods and priors (AKA weights & Biases) the represent\n",
        "        the trained value. \n",
        "        \"\"\"\n",
        "        self.K = set(y.astype(int)) \n",
        "        for k in self.K: \n",
        "            X_k = X[y==k, :]\n",
        "            self.likelihoods[k] = {\n",
        "                \"Mean\": X_k.mean(axis=0), # Where the data is situated\n",
        "                \"CoVariance\": X_k.var(axis=0)+epsilon # The shape of the distribution\n",
        "            }\n",
        "            self.priors[k] = len(X-k)/len(X) # MAY BE WRONG\n",
        "\n",
        "    def predict(self, X):\n",
        "        \"\"\"\n",
        "        Where inference happens. \n",
        "        Predicts the class for each instance of X with Bayes theorem using the \n",
        "        likelihoods and priors (weights & biases) calculated during training. \n",
        "        \"\"\"\n",
        "        N, D = X.shape  # numRows, numFeatures\n",
        "        P_hat = np.zeros((N, len(self.K))) # Predictive Probability\n",
        "        for k, l in self.likelihoods.items():\n",
        "            # Bayes Theorem Application\n",
        "            P_hat[:,k] = mvn.logpdf(X, l[\"Mean\"], l[\"CoVariance\"]) + np.log(self.priors[k])\n",
        "        return P_hat.argmax(axis=1)"
      ],
      "metadata": {
        "id": "Q_kJyxxy7Nr5"
      },
      "execution_count": null,
      "outputs": []
    },
    {
      "cell_type": "code",
      "source": [
        "class KNNClassifier():\n",
        "\n",
        "    def fit(self, X, y):\n",
        "        self.X = X\n",
        "        self.y = y.astype(int)\n",
        "\n",
        "    def predict(self, X, K, epsilon=1e-3):\n",
        "        N = len(X)\n",
        "        y_hat = np.zeros(N)\n",
        "        # Calculating distances from one point to every other point\n",
        "        for i in range(N):\n",
        "            dist2 = np.sum((self.X-X[i])**2, axis=1)  # List of distances\n",
        "            idxtK = np.argsort(dist2)[:K]    # Indecies in order from smallest to largest up to K\n",
        "            gamma = 1/(np.sqrt(dist2[idxtK]+epsilon))\n",
        "            y_hat[i] = np.bincount(self.y[idxtK], weights=gamma).argmax()\n",
        "        return y_hat"
      ],
      "metadata": {
        "id": "mrPv0bMe7uhw"
      },
      "execution_count": null,
      "outputs": []
    },
    {
      "cell_type": "code",
      "source": [
        "class GaussBayes():\n",
        "  \n",
        "    likelihoods = dict()   # \n",
        "    priors = dict()        # \n",
        "    K = int()              # K stands for the number of classes\n",
        "  \n",
        "    def fit(self, X, y, epsilon=1e-3):\n",
        "        \"\"\" \n",
        "        Method for training the model\n",
        "        Creates likelihoods and priors (AKA weights & Biases) the represent\n",
        "        the trained value. \n",
        "        \"\"\"\n",
        "        self.K = set(y.astype(int)) \n",
        "        for k in self.K: \n",
        "            X_k = X[y==k, :]\n",
        "            N_k, D = X_k.shape\n",
        "            mu_k = X_k.mean(axis=0)\n",
        "            self.likelihoods[k] = {\n",
        "                \"Mean\": mu_k, # X_k.mean(axis=0), # Where the data is situated\n",
        "                \"CoVariance\": \n",
        "                    (1/(N_k-1))\n",
        "                    *np.matmul((X_k-mu_k).T, (X_k-mu_k))\n",
        "                    +epsilon*np.identity(D)\n",
        "            }\n",
        "            self.priors[k] = len(X_k)/len(X)\n",
        "\n",
        "    def predict(self, X):\n",
        "        \"\"\"\n",
        "        Where inference happens. \n",
        "        Predicts the class for each instance of X with Bayes theorem using the \n",
        "        likelihoods and priors (weights & biases) calculated during training. \n",
        "        \"\"\"\n",
        "        N, D = X.shape  # numRows, numFeatures\n",
        "        P_hat = np.zeros((N, len(self.K))) # Predictive Probability\n",
        "        for k, l in self.likelihoods.items():\n",
        "            P_hat[:,k] = mvn.logpdf(\n",
        "                X, \n",
        "                l[\"Mean\"], \n",
        "                l[\"CoVariance\"]) + np.log(self.priors[k])\n",
        "        return P_hat.argmax(axis=1)"
      ],
      "metadata": {
        "id": "oiK3J1RP7uZO"
      },
      "execution_count": null,
      "outputs": []
    },
    {
      "cell_type": "markdown",
      "source": [
        "## Models"
      ],
      "metadata": {
        "id": "aBA70FLH7Obf"
      }
    },
    {
      "cell_type": "code",
      "source": [
        ""
      ],
      "metadata": {
        "id": "pMru4tp97V67"
      },
      "execution_count": null,
      "outputs": []
    },
    {
      "cell_type": "markdown",
      "source": [
        "#### GaussBayes"
      ],
      "metadata": {
        "id": "Twh8yhtUufDF"
      }
    },
    {
      "cell_type": "code",
      "source": [
        "GB = GaussBayes()\n",
        "GB.fit(X_norm, y)"
      ],
      "metadata": {
        "id": "mTkxyDiotnc0"
      },
      "execution_count": null,
      "outputs": []
    },
    {
      "cell_type": "code",
      "source": [
        "GB_yhat = GB.predict(X_test)"
      ],
      "metadata": {
        "id": "tfgNmENtAmcT"
      },
      "execution_count": null,
      "outputs": []
    },
    {
      "cell_type": "code",
      "source": [
        "GB_acc = acc(y_test, GB_yhat)\n",
        "print(GB_acc)\n",
        "# train on X_norm and test on X_test -> .9029"
      ],
      "metadata": {
        "id": "KUGF4SbBtEr6",
        "colab": {
          "base_uri": "https://localhost:8080/"
        },
        "outputId": "0db5e682-f531-4ba1-bfb2-4249c4fcb76a"
      },
      "execution_count": null,
      "outputs": [
        {
          "output_type": "stream",
          "name": "stdout",
          "text": [
            "0.9029\n"
          ]
        }
      ]
    },
    {
      "cell_type": "code",
      "source": [
        ""
      ],
      "metadata": {
        "id": "XrF2ueYKB5nE"
      },
      "execution_count": null,
      "outputs": []
    },
    {
      "cell_type": "markdown",
      "source": [
        "#### KNN"
      ],
      "metadata": {
        "id": "hSTWDaXGB553"
      }
    },
    {
      "cell_type": "code",
      "source": [
        "knn = KNNClassifier()\n",
        "knn.fit(X, y)"
      ],
      "metadata": {
        "id": "_ngSw1p3B554"
      },
      "execution_count": null,
      "outputs": []
    },
    {
      "cell_type": "code",
      "source": [
        "knn_yhat = knn.predict(X_test, K=10)"
      ],
      "metadata": {
        "id": "RFKKq_6_B554"
      },
      "execution_count": null,
      "outputs": []
    },
    {
      "cell_type": "code",
      "source": [
        "knn_acc = acc(y_test, knn_yhat)\n",
        "print(knn_acc)\n",
        "# 10 neighbors -> X      -> 45min training -> .9684 acc\n",
        "# 30 neighbors -> X      -> 30min           -> .9604\n",
        "# 10 neighbors -> X_norm -> 51min training -> .7646 acc"
      ],
      "metadata": {
        "colab": {
          "base_uri": "https://localhost:8080/"
        },
        "outputId": "17df79d8-9740-408c-8bc2-898d0972c041",
        "id": "5NYPvgOVB555"
      },
      "execution_count": null,
      "outputs": [
        {
          "output_type": "stream",
          "name": "stdout",
          "text": [
            "0.9684\n"
          ]
        }
      ]
    },
    {
      "cell_type": "markdown",
      "source": [
        "## Not sure"
      ],
      "metadata": {
        "id": "ivPgVc4z8BlA"
      }
    },
    {
      "cell_type": "code",
      "source": [
        "plt.figure(figsize=(10,7))\n",
        "y_actu = pd.Series(y_test, name='Actual')\n",
        "y_pred = pd.Series(knn_yhat, name='Predicted')\n",
        "cm = pd.crosstab(y_actu, y_pred)\n",
        "ax = sns.heatmap(cm, annot=True, fmt=\"d\")\n",
        "plt.ylabel('True label')\n",
        "plt.xlabel('Predicted label')\n",
        "plt.savefig('confused.png', bbox_inches=\"tight\")"
      ],
      "metadata": {
        "colab": {
          "base_uri": "https://localhost:8080/",
          "height": 442
        },
        "id": "O2ibU9kE8H-2",
        "outputId": "0dac214e-76a4-4d05-c6c6-2cf1557cd99a"
      },
      "execution_count": null,
      "outputs": [
        {
          "output_type": "display_data",
          "data": {
            "text/plain": [
              "<Figure size 720x504 with 2 Axes>"
            ],
            "image/png": "[encoded data removed]"
          },
          "metadata": {
            "needs_background": "light"
          }
        }
      ]
    },
    {
      "cell_type": "code",
      "source": [
        ""
      ],
      "metadata": {
        "id": "sZu4zAhqex1v"
      },
      "execution_count": null,
      "outputs": []
    }
  ]
}